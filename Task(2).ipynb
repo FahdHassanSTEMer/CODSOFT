{
 "cells": [
  {
   "cell_type": "code",
   "execution_count": 1,
   "id": "9c87d60d-23d6-430c-97fc-edb633742327",
   "metadata": {},
   "outputs": [],
   "source": [
    "import pandas as pd"
   ]
  },
  {
   "cell_type": "code",
   "execution_count": 2,
   "id": "0a0d6cbc-356e-4cee-a4c1-8c1f67fad66b",
   "metadata": {},
   "outputs": [],
   "source": [
    "train_data = pd.read_csv('fraudTrain.csv')\n",
    "test_data = pd.read_csv('fraudTest.csv')"
   ]
  },
  {
   "cell_type": "code",
   "execution_count": 3,
   "id": "c0740254-989f-4a64-91bf-da3800cfd0e5",
   "metadata": {},
   "outputs": [
    {
     "name": "stdout",
     "output_type": "stream",
     "text": [
      "Index(['Unnamed: 0', 'trans_date_trans_time', 'cc_num', 'merchant', 'category',\n",
      "       'amt', 'first', 'last', 'gender', 'street', 'city', 'state', 'zip',\n",
      "       'lat', 'long', 'city_pop', 'job', 'dob', 'trans_num', 'unix_time',\n",
      "       'merch_lat', 'merch_long', 'is_fraud'],\n",
      "      dtype='object')\n",
      "Index(['Unnamed: 0', 'trans_date_trans_time', 'cc_num', 'merchant', 'category',\n",
      "       'amt', 'first', 'last', 'gender', 'street', 'city', 'state', 'zip',\n",
      "       'lat', 'long', 'city_pop', 'job', 'dob', 'trans_num', 'unix_time',\n",
      "       'merch_lat', 'merch_long', 'is_fraud'],\n",
      "      dtype='object')\n"
     ]
    }
   ],
   "source": [
    "print(train_data.columns)\n",
    "print(test_data.columns)"
   ]
  },
  {
   "cell_type": "code",
   "execution_count": 4,
   "id": "467fa8d8-60a3-444e-8cb8-b9335a496734",
   "metadata": {},
   "outputs": [],
   "source": [
    "columns_to_remove = ['Unnamed: 0','cc_num','first','last','street','city','state','zip','gender','dob','job','trans_num','unix_time','merchant']\n",
    "def modifying(data,columns_to_remove):\n",
    "    return data.drop(columns = columns_to_remove)"
   ]
  },
  {
   "cell_type": "code",
   "execution_count": 5,
   "id": "a1391a5a-ceb3-43e0-95bb-78e30316079e",
   "metadata": {},
   "outputs": [
    {
     "name": "stdout",
     "output_type": "stream",
     "text": [
      "       trans_date_trans_time        category     amt      lat      long  \\\n",
      "0        2020-06-21 12:14:25   personal_care    2.86  33.9659  -80.9355   \n",
      "1        2020-06-21 12:14:33   personal_care   29.84  40.3207 -110.4360   \n",
      "2        2020-06-21 12:14:53  health_fitness   41.28  40.6729  -73.5365   \n",
      "3        2020-06-21 12:15:15        misc_pos   60.05  28.5697  -80.8191   \n",
      "4        2020-06-21 12:15:17          travel    3.19  44.2529  -85.0170   \n",
      "...                      ...             ...     ...      ...       ...   \n",
      "555714   2020-12-31 23:59:07  health_fitness   43.77  40.4931  -91.8912   \n",
      "555715   2020-12-31 23:59:09       kids_pets  111.84  29.0393  -95.4401   \n",
      "555716   2020-12-31 23:59:15       kids_pets   86.88  46.1966 -118.9017   \n",
      "555717   2020-12-31 23:59:24          travel    7.99  44.6255 -116.4493   \n",
      "555718   2020-12-31 23:59:34   entertainment   38.13  35.6665  -97.4798   \n",
      "\n",
      "        city_pop  merch_lat  merch_long  is_fraud  \n",
      "0         333497  33.986391  -81.200714         0  \n",
      "1            302  39.450498 -109.960431         0  \n",
      "2          34496  40.495810  -74.196111         0  \n",
      "3          54767  28.812398  -80.883061         0  \n",
      "4           1126  44.959148  -85.884734         0  \n",
      "...          ...        ...         ...       ...  \n",
      "555714       519  39.946837  -91.333331         0  \n",
      "555715     28739  29.661049  -96.186633         0  \n",
      "555716      3684  46.658340 -119.715054         0  \n",
      "555717       129  44.470525 -117.080888         0  \n",
      "555718    116001  36.210097  -97.036372         0  \n",
      "\n",
      "[555719 rows x 9 columns]\n",
      "        trans_date_trans_time       category     amt      lat      long  \\\n",
      "0         2019-01-01 00:00:18       misc_net    4.97  36.0788  -81.1781   \n",
      "1         2019-01-01 00:00:44    grocery_pos  107.23  48.8878 -118.2105   \n",
      "2         2019-01-01 00:00:51  entertainment  220.11  42.1808 -112.2620   \n",
      "3         2019-01-01 00:01:16  gas_transport   45.00  46.2306 -112.1138   \n",
      "4         2019-01-01 00:03:06       misc_pos   41.96  38.4207  -79.4629   \n",
      "...                       ...            ...     ...      ...       ...   \n",
      "1296670   2020-06-21 12:12:08  entertainment   15.56  37.7175 -112.4777   \n",
      "1296671   2020-06-21 12:12:19    food_dining   51.70  39.2667  -77.5101   \n",
      "1296672   2020-06-21 12:12:32    food_dining  105.93  32.9396 -105.8189   \n",
      "1296673   2020-06-21 12:13:36    food_dining   74.90  43.3526 -102.5411   \n",
      "1296674   2020-06-21 12:13:37    food_dining    4.30  45.8433 -113.8748   \n",
      "\n",
      "         city_pop  merch_lat  merch_long  is_fraud  \n",
      "0            3495  36.011293  -82.048315         0  \n",
      "1             149  49.159047 -118.186462         0  \n",
      "2            4154  43.150704 -112.154481         0  \n",
      "3            1939  47.034331 -112.561071         0  \n",
      "4              99  38.674999  -78.632459         0  \n",
      "...           ...        ...         ...       ...  \n",
      "1296670       258  36.841266 -111.690765         0  \n",
      "1296671       100  38.906881  -78.246528         0  \n",
      "1296672       899  33.619513 -105.130529         0  \n",
      "1296673      1126  42.788940 -103.241160         0  \n",
      "1296674       218  46.565983 -114.186110         0  \n",
      "\n",
      "[1296675 rows x 9 columns]\n"
     ]
    }
   ],
   "source": [
    "test_data = modifying(test_data,columns_to_remove)\n",
    "print(test_data)\n",
    "train_data = modifying(train_data,columns_to_remove)\n",
    "print(train_data)"
   ]
  },
  {
   "cell_type": "code",
   "execution_count": 6,
   "id": "b5fbb842-170e-4ee5-a90f-a96b7574eaaa",
   "metadata": {},
   "outputs": [],
   "source": [
    "def transformation_for_time(data):    \n",
    "    data['improved_time'] = pd.to_datetime(data['trans_date_trans_time'])\n",
    "    data['trans_year'] = data['improved_time'].dt.year\n",
    "    data['trans_month'] = data['improved_time'].dt.month\n",
    "    data['trans_day'] = data['improved_time'].dt.day\n",
    "    data['trans_hour'] = data['improved_time'].dt.hour\n",
    "    return data\n",
    "\n",
    "train_data = transformation_for_time(train_data)\n",
    "test_data = transformation_for_time(test_data)"
   ]
  },
  {
   "cell_type": "code",
   "execution_count": 7,
   "id": "95b4c057-7a11-441c-9fb4-1e6b8e56ca9c",
   "metadata": {},
   "outputs": [],
   "source": [
    "train_data = train_data.drop(['improved_time','trans_date_trans_time'], axis = 1)\n",
    "test_data = test_data.drop(['improved_time','trans_date_trans_time'], axis = 1)"
   ]
  },
  {
   "cell_type": "code",
   "execution_count": 8,
   "id": "2855f251-8c7c-4b9c-a734-b8ab751949db",
   "metadata": {},
   "outputs": [
    {
     "name": "stdout",
     "output_type": "stream",
     "text": [
      "         category    amt      lat      long  city_pop  merch_lat  merch_long  \\\n",
      "0   personal_care   2.86  33.9659  -80.9355    333497  33.986391  -81.200714   \n",
      "1   personal_care  29.84  40.3207 -110.4360       302  39.450498 -109.960431   \n",
      "2  health_fitness  41.28  40.6729  -73.5365     34496  40.495810  -74.196111   \n",
      "\n",
      "   is_fraud  trans_year  trans_month  trans_day  trans_hour  \n",
      "0         0        2020            6         21          12  \n",
      "1         0        2020            6         21          12  \n",
      "2         0        2020            6         21          12  \n"
     ]
    }
   ],
   "source": [
    "print(test_data[:3])"
   ]
  },
  {
   "cell_type": "code",
   "execution_count": 9,
   "id": "dd8f60f7-98e4-47be-8ebf-267099a421fb",
   "metadata": {},
   "outputs": [],
   "source": [
    "xr = train_data.drop(['is_fraud'],axis = 1)\n",
    "y = train_data['is_fraud']\n",
    "xe = test_data.drop(['is_fraud'],axis = 1)\n",
    "ye = test_data['is_fraud']"
   ]
  },
  {
   "cell_type": "code",
   "execution_count": 10,
   "id": "30b052a6-673f-4428-ab30-0bcacfd9faa7",
   "metadata": {},
   "outputs": [],
   "source": [
    "from sklearn.preprocessing import OneHotEncoder, StandardScaler\n",
    "from sklearn.compose import ColumnTransformer\n",
    "from sklearn.pipeline import Pipeline\n",
    "preprocess = ColumnTransformer(\n",
    "    transformers = [\n",
    "        ('num', StandardScaler(), ['amt','lat','long','city_pop','merch_lat','merch_long','trans_year','trans_month','trans_day','trans_hour']),\n",
    "        ('category', OneHotEncoder() , ['category'])\n",
    "    ]\n",
    ")\n",
    "x_trained_prepared = preprocess.fit_transform(xr)\n",
    "x_tested_prepared = preprocess.transform(xe)"
   ]
  },
  {
   "cell_type": "code",
   "execution_count": 11,
   "id": "15f9d27d-bdaf-4124-8386-b80ded76384f",
   "metadata": {},
   "outputs": [],
   "source": [
    "#from imblearn.over_sampling import ADASYN\n",
    "#adasyn = ADASYN(random_state=42)\n",
    "#x_trained_prepared_resampled, y_resampled = adasyn.fit_resample(x_trained_prepared, y)"
   ]
  },
  {
   "cell_type": "code",
   "execution_count": 15,
   "id": "c48e28ee-4ce5-4cf6-83b5-003335036e42",
   "metadata": {},
   "outputs": [
    {
     "name": "stdout",
     "output_type": "stream",
     "text": [
      "              precision    recall  f1-score   support\n",
      "\n",
      "           0       1.00      0.94      0.97    553574\n",
      "           1       0.05      0.73      0.09      2145\n",
      "\n",
      "    accuracy                           0.94    555719\n",
      "   macro avg       0.52      0.84      0.53    555719\n",
      "weighted avg       1.00      0.94      0.97    555719\n",
      "\n"
     ]
    }
   ],
   "source": [
    "from sklearn.linear_model import LogisticRegression\n",
    "from sklearn.metrics import classification_report, accuracy_score\n",
    "model = LogisticRegression(max_iter = 1000, class_weight = \"balanced\")\n",
    "model.fit(x_trained_prepared, y)\n",
    "y_prediction = model.predict(x_tested_prepared)\n",
    "classification = classification_report(ye,y_prediction)\n",
    "print(classification)"
   ]
  },
  {
   "cell_type": "code",
   "execution_count": null,
   "id": "9575fcc1-a2ea-4796-b9e6-b6e844a70732",
   "metadata": {},
   "outputs": [],
   "source": []
  }
 ],
 "metadata": {
  "kernelspec": {
   "display_name": "Python 3 (ipykernel)",
   "language": "python",
   "name": "python3"
  },
  "language_info": {
   "codemirror_mode": {
    "name": "ipython",
    "version": 3
   },
   "file_extension": ".py",
   "mimetype": "text/x-python",
   "name": "python",
   "nbconvert_exporter": "python",
   "pygments_lexer": "ipython3",
   "version": "3.11.7"
  }
 },
 "nbformat": 4,
 "nbformat_minor": 5
}
