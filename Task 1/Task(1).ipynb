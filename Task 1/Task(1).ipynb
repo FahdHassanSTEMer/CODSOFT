{
 "cells": [
  {
   "cell_type": "code",
   "execution_count": 1,
   "id": "9a9a1091-0dde-4a83-a70f-d68f035ea9ec",
   "metadata": {},
   "outputs": [],
   "source": [
    "import nltk\n",
    "from nltk import *\n",
    "import pandas as pd\n",
    "from sklearn.feature_extraction.text import TfidfVectorizer\n",
    "from sklearn.ensemble import RandomForestClassifier\n",
    "from sklearn.metrics import accuracy_score, classification_report"
   ]
  },
  {
   "cell_type": "code",
   "execution_count": 2,
   "id": "a16f2eda-01ac-4a58-a53c-a84012f48f57",
   "metadata": {},
   "outputs": [],
   "source": [
    "train_data = pd.read_csv(\"train_data.txt\", delimiter = \" ::: \", engine=\"python\",header = None)"
   ]
  },
  {
   "cell_type": "code",
   "execution_count": 4,
   "id": "19df7b00-c177-42af-bc7e-a698c296059a",
   "metadata": {},
   "outputs": [],
   "source": [
    "#print(train_data)"
   ]
  },
  {
   "cell_type": "code",
   "execution_count": 3,
   "id": "8f4ea8f2-b04c-4983-a861-151d1af82c75",
   "metadata": {},
   "outputs": [],
   "source": [
    "train_data.columns = [\"movie_ID\",\"movie_name\",\"movie_genre\",\"movie_description\"]\n",
    "#print(train_data)"
   ]
  },
  {
   "cell_type": "code",
   "execution_count": 4,
   "id": "37dd0246-628c-4ed4-a2f1-978b132f7d01",
   "metadata": {},
   "outputs": [],
   "source": [
    "from nltk.corpus import stopwords\n",
    "stop_words = set(stopwords.words('english'))\n",
    "lemmatizer = WordNetLemmatizer()\n",
    "def text_preprocess(text):\n",
    "    text = re.sub(r'\\W', ' ', text)\n",
    "    text = text.lower()\n",
    "    tokens = nltk.word_tokenize(text)\n",
    "    words = [lemmatizer.lemmatize(word) for word in tokens if word not in stop_words]\n",
    "    collected_words = ' '.join(words)\n",
    "    return collected_words\n",
    "\n",
    "train_data['cleaned_summary'] = train_data['movie_description'].apply(text_preprocess)"
   ]
  },
  {
   "cell_type": "code",
   "execution_count": null,
   "id": "1f3944f7-efbc-42b9-aef1-d65d913abd81",
   "metadata": {},
   "outputs": [],
   "source": [
    "#print(train_data[\"cleaned_summary\"])"
   ]
  },
  {
   "cell_type": "code",
   "execution_count": 5,
   "id": "0d7131b9-d27d-406b-ad99-ad317897babc",
   "metadata": {},
   "outputs": [
    {
     "name": "stdout",
     "output_type": "stream",
     "text": [
      "0        l r brane love life car apartment job especial...\n",
      "1        spain march 1964 quico naughty child three bel...\n",
      "2        one year life albin family shepherd north tran...\n",
      "3        father died spoken brother 10 year serious can...\n",
      "4        known internationally martial art superstar br...\n",
      "                               ...                        \n",
      "54195    covering multiple genre tale light dark anthol...\n",
      "54196    alice cora munro attempt find father british o...\n",
      "54197    movie 169 year making oliver twist artful dodg...\n",
      "54198    popular mysterious rock j mike mallard askew b...\n",
      "54199    curitiba city movement rhythm different pulsat...\n",
      "Name: cleaned_summary, Length: 54200, dtype: object\n"
     ]
    }
   ],
   "source": [
    "from nltk.corpus import stopwords\n",
    "stop_words = set(stopwords.words('english'))\n",
    "lemmatizer = WordNetLemmatizer()\n",
    "test_data = pd.read_csv(\"test_data_solution.txt\",delimiter = \" ::: \",engine = \"python\",header = None)\n",
    "test_data.columns = ['movie_ID','movie_name','movie_genre','movie_description']\n",
    "#def text_processing (text):\n",
    "#    text = re.sub(r'\\W', ' ', text)\n",
    "#    text = text.lower()\n",
    "#    tokens = nltk.word_tokenize(text)\n",
    "#    words = [lemmatizer.lemmatize(word) for word in tokens if word not in stop_words]\n",
    "#    cleaned_summ = ' '.join(words)\n",
    "#    return cleaned_summ\n",
    "\n",
    "test_data['cleaned_summary'] = test_data['movie_description'].apply(text_preprocess)\n",
    "print(test_data['cleaned_summary'])"
   ]
  },
  {
   "cell_type": "code",
   "execution_count": 8,
   "id": "9d1113e1-012f-4485-b541-f1275eddd961",
   "metadata": {},
   "outputs": [],
   "source": [
    "tfidf = TfidfVectorizer(max_features=5000)\n",
    "X_train = tfidf.fit_transform(train_data['cleaned_summary']).toarray()\n",
    "X_test = tfidf.transform(test_data['cleaned_summary']).toarray()\n",
    "Y_train = train_data['movie_genre']\n",
    "Y_test = test_data['movie_genre']"
   ]
  },
  {
   "cell_type": "code",
   "execution_count": 9,
   "id": "5a4939bc-8c99-40ea-9d56-f59b257b78af",
   "metadata": {},
   "outputs": [
    {
     "name": "stderr",
     "output_type": "stream",
     "text": [
      "C:\\Users\\fahdf\\anaconda3\\Lib\\site-packages\\sklearn\\metrics\\_classification.py:1344: UndefinedMetricWarning: Recall and F-score are ill-defined and being set to 0.0 in labels with no true samples. Use `zero_division` parameter to control this behavior.\n",
      "  _warn_prf(average, modifier, msg_start, len(result))\n",
      "C:\\Users\\fahdf\\anaconda3\\Lib\\site-packages\\sklearn\\metrics\\_classification.py:1344: UndefinedMetricWarning: Recall and F-score are ill-defined and being set to 0.0 in labels with no true samples. Use `zero_division` parameter to control this behavior.\n",
      "  _warn_prf(average, modifier, msg_start, len(result))\n",
      "C:\\Users\\fahdf\\anaconda3\\Lib\\site-packages\\sklearn\\metrics\\_classification.py:1344: UndefinedMetricWarning: Recall and F-score are ill-defined and being set to 0.0 in labels with no true samples. Use `zero_division` parameter to control this behavior.\n",
      "  _warn_prf(average, modifier, msg_start, len(result))\n"
     ]
    }
   ],
   "source": [
    "from sklearn.linear_model import LogisticRegression\n",
    "from sklearn.metrics import classification_report, accuracy_score\n",
    "model = LogisticRegression(max_iter = 1000, solver = 'saga')\n",
    "model.fit(X_train,Y_train)\n",
    "y_prediction = model.predict(X_test)\n",
    "report = classification_report(y_prediction, Y_test)\n",
    "accuracy = accuracy_score(y_prediction, Y_test)"
   ]
  },
  {
   "cell_type": "code",
   "execution_count": 10,
   "id": "7ca3419a-3c07-407c-805c-8b5ab0b42b48",
   "metadata": {},
   "outputs": [
    {
     "name": "stdout",
     "output_type": "stream",
     "text": [
      "              precision    recall  f1-score   support\n",
      "\n",
      "      action       0.29      0.46      0.36       831\n",
      "       adult       0.27      0.62      0.37       256\n",
      "   adventure       0.18      0.57      0.27       237\n",
      "   animation       0.08      0.51      0.14        79\n",
      "   biography       0.00      0.00      0.00         0\n",
      "      comedy       0.59      0.54      0.56      8154\n",
      "       crime       0.04      0.32      0.07        62\n",
      " documentary       0.84      0.67      0.75     16446\n",
      "       drama       0.77      0.55      0.64     19100\n",
      "      family       0.10      0.49      0.17       164\n",
      "     fantasy       0.06      0.58      0.11        33\n",
      "   game-show       0.54      0.83      0.65       125\n",
      "     history       0.00      0.00      0.00         0\n",
      "      horror       0.58      0.65      0.61      1970\n",
      "       music       0.45      0.64      0.53       517\n",
      "     musical       0.02      0.24      0.03        21\n",
      "     mystery       0.02      0.40      0.04        15\n",
      "        news       0.06      0.79      0.11        14\n",
      "  reality-tv       0.20      0.50      0.28       347\n",
      "     romance       0.03      0.48      0.06        48\n",
      "      sci-fi       0.26      0.55      0.36       310\n",
      "       short       0.34      0.47      0.39      3714\n",
      "       sport       0.27      0.67      0.38       173\n",
      "   talk-show       0.20      0.60      0.30       131\n",
      "    thriller       0.14      0.38      0.20       577\n",
      "         war       0.02      0.75      0.04         4\n",
      "     western       0.76      0.90      0.82       872\n",
      "\n",
      "    accuracy                           0.59     54200\n",
      "   macro avg       0.26      0.52      0.31     54200\n",
      "weighted avg       0.69      0.59      0.62     54200\n",
      "\n",
      "0.58690036900369\n"
     ]
    }
   ],
   "source": [
    "print(report)\n",
    "print(accuracy)"
   ]
  },
  {
   "cell_type": "code",
   "execution_count": null,
   "id": "38720dfc-d2d8-4ddf-b764-4b369f64d537",
   "metadata": {},
   "outputs": [],
   "source": []
  }
 ],
 "metadata": {
  "kernelspec": {
   "display_name": "Python 3 (ipykernel)",
   "language": "python",
   "name": "python3"
  },
  "language_info": {
   "codemirror_mode": {
    "name": "ipython",
    "version": 3
   },
   "file_extension": ".py",
   "mimetype": "text/x-python",
   "name": "python",
   "nbconvert_exporter": "python",
   "pygments_lexer": "ipython3",
   "version": "3.11.7"
  }
 },
 "nbformat": 4,
 "nbformat_minor": 5
}
