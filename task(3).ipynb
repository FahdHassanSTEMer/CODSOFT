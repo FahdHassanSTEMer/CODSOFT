{
 "cells": [
  {
   "cell_type": "code",
   "execution_count": 6,
   "id": "f80a6a7b-c473-48cb-8f0e-09961e130abd",
   "metadata": {},
   "outputs": [],
   "source": [
    "import pandas as pd"
   ]
  },
  {
   "cell_type": "code",
   "execution_count": 2,
   "id": "11dab5bd-95f9-4596-846f-3813745bb418",
   "metadata": {},
   "outputs": [
    {
     "name": "stdout",
     "output_type": "stream",
     "text": [
      "      RowNumber  CustomerId    Surname  CreditScore Geography  Gender  Age  \\\n",
      "0             1    15634602   Hargrave          619    France  Female   42   \n",
      "1             2    15647311       Hill          608     Spain  Female   41   \n",
      "2             3    15619304       Onio          502    France  Female   42   \n",
      "3             4    15701354       Boni          699    France  Female   39   \n",
      "4             5    15737888   Mitchell          850     Spain  Female   43   \n",
      "...         ...         ...        ...          ...       ...     ...  ...   \n",
      "9995       9996    15606229   Obijiaku          771    France    Male   39   \n",
      "9996       9997    15569892  Johnstone          516    France    Male   35   \n",
      "9997       9998    15584532        Liu          709    France  Female   36   \n",
      "9998       9999    15682355  Sabbatini          772   Germany    Male   42   \n",
      "9999      10000    15628319     Walker          792    France  Female   28   \n",
      "\n",
      "      Tenure    Balance  NumOfProducts  HasCrCard  IsActiveMember  \\\n",
      "0          2       0.00              1          1               1   \n",
      "1          1   83807.86              1          0               1   \n",
      "2          8  159660.80              3          1               0   \n",
      "3          1       0.00              2          0               0   \n",
      "4          2  125510.82              1          1               1   \n",
      "...      ...        ...            ...        ...             ...   \n",
      "9995       5       0.00              2          1               0   \n",
      "9996      10   57369.61              1          1               1   \n",
      "9997       7       0.00              1          0               1   \n",
      "9998       3   75075.31              2          1               0   \n",
      "9999       4  130142.79              1          1               0   \n",
      "\n",
      "      EstimatedSalary  Exited  \n",
      "0           101348.88       1  \n",
      "1           112542.58       0  \n",
      "2           113931.57       1  \n",
      "3            93826.63       0  \n",
      "4            79084.10       0  \n",
      "...               ...     ...  \n",
      "9995         96270.64       0  \n",
      "9996        101699.77       0  \n",
      "9997         42085.58       1  \n",
      "9998         92888.52       1  \n",
      "9999         38190.78       0  \n",
      "\n",
      "[10000 rows x 14 columns]\n"
     ]
    }
   ],
   "source": [
    "data_file = pd.read_csv('Churn_Modelling.csv', engine = 'python')\n",
    "print(data_file)"
   ]
  },
  {
   "cell_type": "code",
   "execution_count": 3,
   "id": "db1461b4-68c1-4023-afb8-f5ec5801a975",
   "metadata": {},
   "outputs": [
    {
     "name": "stdout",
     "output_type": "stream",
     "text": [
      "      CreditScore Geography  Gender  Age  Tenure    Balance  NumOfProducts  \\\n",
      "0             619    France  Female   42       2       0.00              1   \n",
      "1             608     Spain  Female   41       1   83807.86              1   \n",
      "2             502    France  Female   42       8  159660.80              3   \n",
      "3             699    France  Female   39       1       0.00              2   \n",
      "4             850     Spain  Female   43       2  125510.82              1   \n",
      "...           ...       ...     ...  ...     ...        ...            ...   \n",
      "9995          771    France    Male   39       5       0.00              2   \n",
      "9996          516    France    Male   35      10   57369.61              1   \n",
      "9997          709    France  Female   36       7       0.00              1   \n",
      "9998          772   Germany    Male   42       3   75075.31              2   \n",
      "9999          792    France  Female   28       4  130142.79              1   \n",
      "\n",
      "      HasCrCard  IsActiveMember  EstimatedSalary  Exited  \n",
      "0             1               1        101348.88       1  \n",
      "1             0               1        112542.58       0  \n",
      "2             1               0        113931.57       1  \n",
      "3             0               0         93826.63       0  \n",
      "4             1               1         79084.10       0  \n",
      "...         ...             ...              ...     ...  \n",
      "9995          1               0         96270.64       0  \n",
      "9996          1               1        101699.77       0  \n",
      "9997          0               1         42085.58       1  \n",
      "9998          1               0         92888.52       1  \n",
      "9999          1               0         38190.78       0  \n",
      "\n",
      "[10000 rows x 11 columns]\n"
     ]
    }
   ],
   "source": [
    "data = data_file.drop(['RowNumber','CustomerId','Surname'],axis=1) \n",
    "print(data)"
   ]
  },
  {
   "cell_type": "code",
   "execution_count": 4,
   "id": "aa42312e-67a5-4441-b7ae-f06670231e0a",
   "metadata": {},
   "outputs": [
    {
     "name": "stdout",
     "output_type": "stream",
     "text": [
      "      CreditScore  Age  Tenure    Balance  NumOfProducts  HasCrCard  \\\n",
      "0             619   42       2       0.00              1          1   \n",
      "1             608   41       1   83807.86              1          0   \n",
      "2             502   42       8  159660.80              3          1   \n",
      "3             699   39       1       0.00              2          0   \n",
      "4             850   43       2  125510.82              1          1   \n",
      "...           ...  ...     ...        ...            ...        ...   \n",
      "9995          771   39       5       0.00              2          1   \n",
      "9996          516   35      10   57369.61              1          1   \n",
      "9997          709   36       7       0.00              1          0   \n",
      "9998          772   42       3   75075.31              2          1   \n",
      "9999          792   28       4  130142.79              1          1   \n",
      "\n",
      "      IsActiveMember  EstimatedSalary  Exited  Geography_France  \\\n",
      "0                  1        101348.88       1                 1   \n",
      "1                  1        112542.58       0                 0   \n",
      "2                  0        113931.57       1                 1   \n",
      "3                  0         93826.63       0                 1   \n",
      "4                  1         79084.10       0                 0   \n",
      "...              ...              ...     ...               ...   \n",
      "9995               0         96270.64       0                 1   \n",
      "9996               1        101699.77       0                 1   \n",
      "9997               1         42085.58       1                 1   \n",
      "9998               0         92888.52       1                 0   \n",
      "9999               0         38190.78       0                 1   \n",
      "\n",
      "      Geography_Germany  Geography_Spain  Gender_Female  Gender_Male  \n",
      "0                     0                0              1            0  \n",
      "1                     0                1              1            0  \n",
      "2                     0                0              1            0  \n",
      "3                     0                0              1            0  \n",
      "4                     0                1              1            0  \n",
      "...                 ...              ...            ...          ...  \n",
      "9995                  0                0              0            1  \n",
      "9996                  0                0              0            1  \n",
      "9997                  0                0              1            0  \n",
      "9998                  1                0              0            1  \n",
      "9999                  0                0              1            0  \n",
      "\n",
      "[10000 rows x 14 columns]\n"
     ]
    }
   ],
   "source": [
    "num_data = pd.get_dummies(data, columns = ['Geography','Gender'])\n",
    "print(num_data)"
   ]
  },
  {
   "cell_type": "code",
   "execution_count": 5,
   "id": "a5db3955-7330-43ef-9a8a-fba3bddcc026",
   "metadata": {},
   "outputs": [],
   "source": [
    "from sklearn.preprocessing import StandardScaler\n",
    "scaler = StandardScaler()\n",
    "num_data[['CreditScore', 'Age', 'Tenure', 'Balance', 'NumOfProducts', 'EstimatedSalary']] = scaler.fit_transform(num_data[['CreditScore', 'Age', 'Tenure', 'Balance', 'NumOfProducts', 'EstimatedSalary']])"
   ]
  },
  {
   "cell_type": "code",
   "execution_count": 6,
   "id": "0dca5000-1215-40a6-b1aa-3b3bed2f458c",
   "metadata": {},
   "outputs": [
    {
     "name": "stdout",
     "output_type": "stream",
     "text": [
      "      CreditScore       Age    Tenure   Balance  NumOfProducts  HasCrCard  \\\n",
      "0       -0.326221  0.293517 -1.041760 -1.225848      -0.911583          1   \n",
      "1       -0.440036  0.198164 -1.387538  0.117350      -0.911583          0   \n",
      "2       -1.536794  0.293517  1.032908  1.333053       2.527057          1   \n",
      "3        0.501521  0.007457 -1.387538 -1.225848       0.807737          0   \n",
      "4        2.063884  0.388871 -1.041760  0.785728      -0.911583          1   \n",
      "...           ...       ...       ...       ...            ...        ...   \n",
      "9995     1.246488  0.007457 -0.004426 -1.225848       0.807737          1   \n",
      "9996    -1.391939 -0.373958  1.724464 -0.306379      -0.911583          1   \n",
      "9997     0.604988 -0.278604  0.687130 -1.225848      -0.911583          0   \n",
      "9998     1.256835  0.293517 -0.695982 -0.022608       0.807737          1   \n",
      "9999     1.463771 -1.041433 -0.350204  0.859965      -0.911583          1   \n",
      "\n",
      "      IsActiveMember  EstimatedSalary  Exited  Geography_France  \\\n",
      "0                  1         0.021886       1                 1   \n",
      "1                  1         0.216534       0                 0   \n",
      "2                  0         0.240687       1                 1   \n",
      "3                  0        -0.108918       0                 1   \n",
      "4                  1        -0.365276       0                 0   \n",
      "...              ...              ...     ...               ...   \n",
      "9995               0        -0.066419       0                 1   \n",
      "9996               1         0.027988       0                 1   \n",
      "9997               1        -1.008643       1                 1   \n",
      "9998               0        -0.125231       1                 0   \n",
      "9999               0        -1.076370       0                 1   \n",
      "\n",
      "      Geography_Germany  Geography_Spain  Gender_Female  Gender_Male  \n",
      "0                     0                0              1            0  \n",
      "1                     0                1              1            0  \n",
      "2                     0                0              1            0  \n",
      "3                     0                0              1            0  \n",
      "4                     0                1              1            0  \n",
      "...                 ...              ...            ...          ...  \n",
      "9995                  0                0              0            1  \n",
      "9996                  0                0              0            1  \n",
      "9997                  0                0              1            0  \n",
      "9998                  1                0              0            1  \n",
      "9999                  0                0              1            0  \n",
      "\n",
      "[10000 rows x 14 columns]\n"
     ]
    }
   ],
   "source": [
    "print(num_data)"
   ]
  },
  {
   "cell_type": "code",
   "execution_count": 7,
   "id": "bc17f767-a7b5-4157-aecd-e0bd2bf363a2",
   "metadata": {},
   "outputs": [],
   "source": [
    "X = num_data.drop('Exited', axis=1)\n",
    "y = num_data['Exited']"
   ]
  },
  {
   "cell_type": "code",
   "execution_count": 8,
   "id": "fd4d7f94-7ea5-4f48-9622-c1b98554f27a",
   "metadata": {},
   "outputs": [],
   "source": [
    "from sklearn.model_selection import train_test_split\n",
    "X_train, X_test, y_train, y_test = train_test_split(X, y, test_size=0.2, random_state=42)"
   ]
  },
  {
   "cell_type": "code",
   "execution_count": 9,
   "id": "f5abf2c4-bc96-4afb-a65a-bdd577a035ac",
   "metadata": {},
   "outputs": [
    {
     "data": {
      "text/plain": [
       "(      CreditScore       Age    Tenure   Balance  NumOfProducts  HasCrCard  \\\n",
       " 9254     0.367013 -0.660018  0.341352 -1.225848       0.807737          1   \n",
       " 1561    -0.191713  0.293517 -0.350204  0.691389       0.807737          1   \n",
       " 1670    -0.947028 -1.422847 -0.695982  0.613102      -0.911583          1   \n",
       " 6087    -0.926334 -1.136786  1.378686  0.948021      -0.911583          1   \n",
       " 6669    -1.381593  1.628468  1.378686  1.052363      -0.911583          0   \n",
       " \n",
       "       IsActiveMember  EstimatedSalary  Geography_France  Geography_Germany  \\\n",
       " 9254               1         1.373784                 1                  0   \n",
       " 1561               1         1.667407                 0                  1   \n",
       " 1670               0        -0.246910                 0                  0   \n",
       " 6087               0         0.921446                 1                  0   \n",
       " 6669               0        -1.053812                 1                  0   \n",
       " \n",
       "       Geography_Spain  Gender_Female  Gender_Male  \n",
       " 9254                0              0            1  \n",
       " 1561                0              0            1  \n",
       " 1670                1              0            1  \n",
       " 6087                0              1            0  \n",
       " 6669                0              0            1  ,\n",
       " 9254    0\n",
       " 1561    0\n",
       " 1670    1\n",
       " 6087    1\n",
       " 6669    1\n",
       " Name: Exited, dtype: int64)"
      ]
     },
     "execution_count": 9,
     "metadata": {},
     "output_type": "execute_result"
    }
   ],
   "source": [
    "X_train.head(), y_train.head()"
   ]
  },
  {
   "cell_type": "code",
   "execution_count": 10,
   "id": "0de00f75-1e6b-4b7b-a386-b2f0765a1900",
   "metadata": {},
   "outputs": [
    {
     "name": "stdout",
     "output_type": "stream",
     "text": [
      "Logistic Regression Accuracy: 0.811\n",
      "Logistic Regression Classification Report:\n",
      "               precision    recall  f1-score   support\n",
      "\n",
      "           0       0.83      0.96      0.89      1607\n",
      "           1       0.55      0.20      0.29       393\n",
      "\n",
      "    accuracy                           0.81      2000\n",
      "   macro avg       0.69      0.58      0.59      2000\n",
      "weighted avg       0.78      0.81      0.77      2000\n",
      "\n"
     ]
    }
   ],
   "source": [
    "from sklearn.linear_model import LogisticRegression\n",
    "from sklearn.metrics import classification_report, accuracy_score\n",
    "# Train Logistic Regression model\n",
    "log_reg = LogisticRegression(max_iter=1000)\n",
    "log_reg.fit(X_train, y_train)\n",
    "\n",
    "# Predict on test set\n",
    "y_pred_log_reg = log_reg.predict(X_test)\n",
    "\n",
    "# Evaluate\n",
    "print(\"Logistic Regression Accuracy:\", accuracy_score(y_test, y_pred_log_reg))\n",
    "print(\"Logistic Regression Classification Report:\\n\", classification_report(y_test, y_pred_log_reg))"
   ]
  }
 ],
 "metadata": {
  "kernelspec": {
   "display_name": "Python 3 (ipykernel)",
   "language": "python",
   "name": "python3"
  },
  "language_info": {
   "codemirror_mode": {
    "name": "ipython",
    "version": 3
   },
   "file_extension": ".py",
   "mimetype": "text/x-python",
   "name": "python",
   "nbconvert_exporter": "python",
   "pygments_lexer": "ipython3",
   "version": "3.11.7"
  }
 },
 "nbformat": 4,
 "nbformat_minor": 5
}
