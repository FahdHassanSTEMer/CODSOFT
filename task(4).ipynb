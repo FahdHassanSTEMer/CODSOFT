{
 "cells": [
  {
   "cell_type": "code",
   "execution_count": 1,
   "id": "c5481f95-0e7e-41c1-84ca-8ef3ccef40ae",
   "metadata": {},
   "outputs": [],
   "source": [
    "import pandas as pd"
   ]
  },
  {
   "cell_type": "code",
   "execution_count": 2,
   "id": "6e827eed-0aba-4b1d-a02e-a63fa2d149c1",
   "metadata": {},
   "outputs": [
    {
     "name": "stdout",
     "output_type": "stream",
     "text": [
      "        v1                                                 v2\n",
      "0      ham  Go until jurong point, crazy.. Available only ...\n",
      "1      ham                      Ok lar... Joking wif u oni...\n",
      "2     spam  Free entry in 2 a wkly comp to win FA Cup fina...\n",
      "3      ham  U dun say so early hor... U c already then say...\n",
      "4      ham  Nah I don't think he goes to usf, he lives aro...\n",
      "...    ...                                                ...\n",
      "5567  spam  This is the 2nd time we have tried 2 contact u...\n",
      "5568   ham              Will Ì_ b going to esplanade fr home?\n",
      "5569   ham  Pity, * was in mood for that. So...any other s...\n",
      "5570   ham  The guy did some bitching but I acted like i'd...\n",
      "5571   ham                         Rofl. Its true to its name\n",
      "\n",
      "[5572 rows x 2 columns]\n"
     ]
    }
   ],
   "source": [
    "data = pd.read_csv('spam.csv',engine = 'python',encoding = 'latin1')\n",
    "data = data.drop(['Unnamed: 2','Unnamed: 3','Unnamed: 4'],axis = 1)\n",
    "print(data)"
   ]
  },
  {
   "cell_type": "code",
   "execution_count": 3,
   "id": "5e0e4681-9af8-4e6f-9868-63e886182220",
   "metadata": {},
   "outputs": [],
   "source": [
    "import nltk\n",
    "from nltk.corpus import stopwords\n",
    "from nltk.stem import WordNetLemmatizer\n",
    "import re\n",
    "lemmatizer = WordNetLemmatizer()\n",
    "stop_wrods = set(stopwords.words('english'))\n",
    "num_data = pd.get_dummies(data, columns = ['v1'],drop_first = True)\n",
    "def text_preprocess(text):\n",
    "    text = re.sub(r'\\W', ' ', text)\n",
    "    text = text.lower()\n",
    "    tokens = nltk.word_tokenize(text)\n",
    "    token_lemmatizered = [lemmatizer.lemmatize(word) for word in tokens if word not in stop_wrods]\n",
    "    return ' '.join(token_lemmatizered)\n",
    "\n",
    "num_data['v2_cleaned'] = num_data['v2'].apply(text_preprocess)"
   ]
  },
  {
   "cell_type": "code",
   "execution_count": 18,
   "id": "a4c3a28f-3afd-40ba-a7a0-86d2fa1c8620",
   "metadata": {},
   "outputs": [
    {
     "name": "stdout",
     "output_type": "stream",
     "text": [
      "[[0. 0. 0. ... 0. 0. 0.]\n",
      " [0. 0. 0. ... 0. 0. 0.]\n",
      " [0. 0. 0. ... 0. 0. 0.]\n",
      " ...\n",
      " [0. 0. 0. ... 0. 0. 0.]\n",
      " [0. 0. 0. ... 0. 0. 0.]\n",
      " [0. 0. 0. ... 0. 0. 0.]]\n",
      "0       0\n",
      "1       0\n",
      "2       1\n",
      "3       0\n",
      "4       0\n",
      "       ..\n",
      "5567    1\n",
      "5568    0\n",
      "5569    0\n",
      "5570    0\n",
      "5571    0\n",
      "Name: v1_spam, Length: 5572, dtype: uint8\n"
     ]
    }
   ],
   "source": [
    "from sklearn.feature_extraction.text import TfidfVectorizer\n",
    "tfidf = TfidfVectorizer(max_features=1000)\n",
    "x = tfidf.fit_transform(num_data['v2_cleaned']).toarray()\n",
    "y = num_data.drop(['v2_cleaned','v2'],axis=1)['v1_spam']\n",
    "print(x)\n",
    "print(y)"
   ]
  },
  {
   "cell_type": "code",
   "execution_count": 5,
   "id": "66e808cc-8191-4643-98c3-c1608735650b",
   "metadata": {},
   "outputs": [],
   "source": [
    "from sklearn.model_selection import train_test_split\n",
    "x_train, x_test, y_train, y_test = train_test_split(x, y, test_size=0.2, random_state=42)"
   ]
  },
  {
   "cell_type": "code",
   "execution_count": 19,
   "id": "5b491882-4be8-45c8-9932-170aea8a767e",
   "metadata": {},
   "outputs": [],
   "source": [
    "from sklearn.linear_model import LogisticRegression\n",
    "from sklearn.metrics import classification_report, accuracy_score\n",
    "model = LogisticRegression()\n",
    "import numpy as np\n",
    "y_train = np.ravel(y_train)\n",
    "model.fit(x_train,y_train)\n",
    "y_prediction = model.predict(x_test)\n",
    "report = classification_report(y_prediction, y_test)\n",
    "accuracy = accuracy_score(y_prediction, y_test)"
   ]
  },
  {
   "cell_type": "code",
   "execution_count": 20,
   "id": "7ff6f557-769c-49f2-a5c4-859226f053f8",
   "metadata": {},
   "outputs": [
    {
     "name": "stdout",
     "output_type": "stream",
     "text": [
      "              precision    recall  f1-score   support\n",
      "\n",
      "           0       1.00      0.97      0.98       990\n",
      "           1       0.81      0.97      0.88       125\n",
      "\n",
      "    accuracy                           0.97      1115\n",
      "   macro avg       0.90      0.97      0.93      1115\n",
      "weighted avg       0.97      0.97      0.97      1115\n",
      " \n",
      "\n",
      "0.9704035874439462\n"
     ]
    }
   ],
   "source": [
    "print(report,\"\\n\")\n",
    "print(accuracy)"
   ]
  },
  {
   "cell_type": "code",
   "execution_count": null,
   "id": "1c59f044-e61a-49d2-8e86-fad8d726ca16",
   "metadata": {},
   "outputs": [],
   "source": []
  }
 ],
 "metadata": {
  "kernelspec": {
   "display_name": "Python 3 (ipykernel)",
   "language": "python",
   "name": "python3"
  },
  "language_info": {
   "codemirror_mode": {
    "name": "ipython",
    "version": 3
   },
   "file_extension": ".py",
   "mimetype": "text/x-python",
   "name": "python",
   "nbconvert_exporter": "python",
   "pygments_lexer": "ipython3",
   "version": "3.11.7"
  }
 },
 "nbformat": 4,
 "nbformat_minor": 5
}
