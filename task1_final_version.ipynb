{
 "cells": [
  {
   "cell_type": "code",
   "execution_count": 1,
   "id": "69abf35f-c33d-4f2c-bb28-49467e009f40",
   "metadata": {},
   "outputs": [],
   "source": [
    "import pandas as pd"
   ]
  },
  {
   "cell_type": "code",
   "execution_count": 2,
   "id": "77258d98-e434-4374-856c-e2066195dc30",
   "metadata": {},
   "outputs": [
    {
     "name": "stdout",
     "output_type": "stream",
     "text": [
      "           0                                           1            2  \\\n",
      "0          1                Oscar et la dame rose (2009)        drama   \n",
      "1          2                                Cupid (1997)     thriller   \n",
      "2          3            Young, Wild and Wonderful (1980)        adult   \n",
      "3          4                       The Secret Sin (1915)        drama   \n",
      "4          5                      The Unrecovered (2007)        drama   \n",
      "...      ...                                         ...          ...   \n",
      "54209  54210                             \"Bonino\" (1953)       comedy   \n",
      "54210  54211                 Dead Girls Don't Cry (????)       horror   \n",
      "54211  54212   Ronald Goedemondt: Ze bestaan echt (2008)  documentary   \n",
      "54212  54213                    Make Your Own Bed (1944)       comedy   \n",
      "54213  54214  Nature's Fury: Storm of the Century (2006)      history   \n",
      "\n",
      "                                                       3  \n",
      "0      Listening in to a conversation between his doc...  \n",
      "1      A brother and sister with a past incestuous re...  \n",
      "2      As the bus empties the students for their fiel...  \n",
      "3      To help their unemployed father make ends meet...  \n",
      "4      The film's title refers not only to the un-rec...  \n",
      "...                                                  ...  \n",
      "54209  This short-lived NBC live sitcom centered on B...  \n",
      "54210  The NEXT Generation of EXPLOITATION. The siste...  \n",
      "54211  Ze bestaan echt, is a stand-up comedy about gr...  \n",
      "54212  Walter and Vivian live in the country and have...  \n",
      "54213  On Labor Day Weekend, 1935, the most intense h...  \n",
      "\n",
      "[54214 rows x 4 columns]\n"
     ]
    }
   ],
   "source": [
    "train_data = pd.read_csv('train_data.txt',delimiter=' ::: ',engine='python', header = None)\n",
    "print(train_data)\n",
    "test_data = pd.read_csv('test_data_solution.txt', delimiter = ' ::: ', engine = 'python', header = None)"
   ]
  },
  {
   "cell_type": "code",
   "execution_count": 3,
   "id": "6f5928c3-6213-4215-a708-f632ccf86adc",
   "metadata": {},
   "outputs": [],
   "source": [
    "train_data.columns = ['movie_ID','movie_name','movie_genre','movie_description']\n",
    "train_data = train_data.drop(['movie_ID','movie_name'], axis = 1)\n",
    "test_data.columns = ['movie_ID','movie_name','movie_genre','movie_description']\n",
    "test_data = test_data.drop(['movie_ID','movie_name'], axis = 1)"
   ]
  },
  {
   "cell_type": "code",
   "execution_count": 4,
   "id": "2c578cd2-f794-474f-b950-49560ce04423",
   "metadata": {},
   "outputs": [
    {
     "name": "stdout",
     "output_type": "stream",
     "text": [
      "       movie_genre                                  movie_description\n",
      "0         thriller  L.R. Brane loves his life - his car, his apart...\n",
      "1           comedy  Spain, March 1964: Quico is a very naughty chi...\n",
      "2      documentary  One year in the life of Albin and his family o...\n",
      "3            drama  His father has died, he hasn't spoken with his...\n",
      "4            drama  Before he was known internationally as a marti...\n",
      "...            ...                                                ...\n",
      "54195       horror  Covering multiple genres, Tales of Light & Dar...\n",
      "54196      western  As Alice and Cora Munro attempt to find their ...\n",
      "54197        adult  A movie 169 years in the making. Oliver Twist,...\n",
      "54198        drama  Popular, but mysterious rock D.J Mike Mallard ...\n",
      "54199        drama  Curitiba is a city in movement, with rhythms a...\n",
      "\n",
      "[54200 rows x 2 columns]\n"
     ]
    }
   ],
   "source": [
    "print(test_data)"
   ]
  },
  {
   "cell_type": "code",
   "execution_count": 5,
   "id": "9c868102-80ef-4d1f-9fe6-bab3718388e5",
   "metadata": {},
   "outputs": [],
   "source": [
    "import nltk\n",
    "import re\n",
    "from nltk.corpus import stopwords\n",
    "from nltk.stem import WordNetLemmatizer\n",
    "stop_words = set(stopwords.words('english'))\n",
    "lemmatizer = WordNetLemmatizer()\n",
    "def text_preprocess (text):\n",
    "    text = text.lower()\n",
    "    text = re.sub(r'\\W',' ',text)\n",
    "    tokens = nltk.word_tokenize(text)\n",
    "    words = [lemmatizer.lemmatize(word) for word in tokens if word not in stop_words]\n",
    "    return ' '.join(words)\n",
    "\n",
    "test_data['cleaned_summary'] = test_data['movie_description'].apply(text_preprocess)\n",
    "train_data['cleaned_summary'] = train_data['movie_description'].apply(text_preprocess)"
   ]
  },
  {
   "cell_type": "code",
   "execution_count": 6,
   "id": "1a788976-aa79-40b1-b0ba-6995b17a1775",
   "metadata": {},
   "outputs": [
    {
     "name": "stdout",
     "output_type": "stream",
     "text": [
      "[[0. 0. 0. ... 0. 0. 0.]\n",
      " [0. 0. 0. ... 0. 0. 0.]\n",
      " [0. 0. 0. ... 0. 0. 0.]\n",
      " ...\n",
      " [0. 0. 0. ... 0. 0. 0.]\n",
      " [0. 0. 0. ... 0. 0. 0.]\n",
      " [0. 0. 0. ... 0. 0. 0.]]\n"
     ]
    }
   ],
   "source": [
    "import sklearn\n",
    "from sklearn.feature_extraction.text import TfidfVectorizer\n",
    "tfidf = TfidfVectorizer(max_features = 5000)\n",
    "x_train = tfidf.fit_transform(train_data['cleaned_summary']).toarray()\n",
    "x_test = tfidf.transform(test_data['cleaned_summary']).toarray()\n",
    "print(x_test)"
   ]
  },
  {
   "cell_type": "code",
   "execution_count": 7,
   "id": "ac1a5cc6-3663-437e-9228-6bf139b02e6f",
   "metadata": {},
   "outputs": [],
   "source": [
    "y_train = train_data['movie_genre']\n",
    "#y_train = np.ravel(y_train)\n",
    "y_test = test_data['movie_genre']\n",
    "#y_test = np.ravel(y_test)"
   ]
  },
  {
   "cell_type": "code",
   "execution_count": 10,
   "id": "792f7c8c-8ff6-42af-a693-0d923fd9c44f",
   "metadata": {},
   "outputs": [
    {
     "name": "stderr",
     "output_type": "stream",
     "text": [
      "C:\\Users\\fahdf\\anaconda3\\Lib\\site-packages\\sklearn\\metrics\\_classification.py:1344: UndefinedMetricWarning: Recall and F-score are ill-defined and being set to 0.0 in labels with no true samples. Use `zero_division` parameter to control this behavior.\n",
      "  _warn_prf(average, modifier, msg_start, len(result))\n",
      "C:\\Users\\fahdf\\anaconda3\\Lib\\site-packages\\sklearn\\metrics\\_classification.py:1344: UndefinedMetricWarning: Recall and F-score are ill-defined and being set to 0.0 in labels with no true samples. Use `zero_division` parameter to control this behavior.\n",
      "  _warn_prf(average, modifier, msg_start, len(result))\n"
     ]
    },
    {
     "name": "stdout",
     "output_type": "stream",
     "text": [
      "              precision    recall  f1-score   support\n",
      "\n",
      "      action       0.29      0.46      0.36       832\n",
      "       adult       0.27      0.62      0.37       256\n",
      "   adventure       0.18      0.57      0.27       237\n",
      "   animation       0.08      0.51      0.14        79\n",
      "   biography       0.00      0.00      0.00         0\n",
      "      comedy       0.59      0.54      0.56      8153\n",
      "       crime       0.04      0.32      0.07        62\n",
      " documentary       0.84      0.67      0.75     16443\n",
      "       drama       0.77      0.55      0.64     19098\n",
      "      family       0.10      0.49      0.17       164\n",
      "     fantasy       0.06      0.58      0.11        33\n",
      "   game-show       0.54      0.83      0.65       125\n",
      "     history       0.00      0.00      0.00         0\n",
      "      horror       0.58      0.65      0.61      1972\n",
      "       music       0.45      0.64      0.53       517\n",
      "     musical       0.02      0.24      0.03        21\n",
      "     mystery       0.02      0.40      0.04        15\n",
      "        news       0.06      0.79      0.11        14\n",
      "  reality-tv       0.20      0.50      0.28       347\n",
      "     romance       0.03      0.48      0.06        48\n",
      "      sci-fi       0.26      0.55      0.36       310\n",
      "       short       0.34      0.47      0.39      3714\n",
      "       sport       0.27      0.67      0.38       174\n",
      "   talk-show       0.20      0.60      0.30       131\n",
      "    thriller       0.14      0.38      0.20       577\n",
      "         war       0.02      0.75      0.04         4\n",
      "     western       0.76      0.90      0.82       874\n",
      "\n",
      "    accuracy                           0.59     54200\n",
      "   macro avg       0.26      0.52      0.31     54200\n",
      "weighted avg       0.69      0.59      0.62     54200\n",
      "\n"
     ]
    },
    {
     "name": "stderr",
     "output_type": "stream",
     "text": [
      "C:\\Users\\fahdf\\anaconda3\\Lib\\site-packages\\sklearn\\metrics\\_classification.py:1344: UndefinedMetricWarning: Recall and F-score are ill-defined and being set to 0.0 in labels with no true samples. Use `zero_division` parameter to control this behavior.\n",
      "  _warn_prf(average, modifier, msg_start, len(result))\n"
     ]
    }
   ],
   "source": [
    "from sklearn.linear_model import LogisticRegression\n",
    "from sklearn.metrics import classification_report, accuracy_score\n",
    "model = LogisticRegression(max_iter = 1000)\n",
    "model.fit(x_train,y_train)\n",
    "y_prediction = model.predict(x_test)\n",
    "report = classification_report(y_prediction,y_test)\n",
    "print(report)"
   ]
  },
  {
   "cell_type": "code",
   "execution_count": null,
   "id": "ec6b73f5-e495-4079-ac5e-349f70d85535",
   "metadata": {},
   "outputs": [],
   "source": []
  }
 ],
 "metadata": {
  "kernelspec": {
   "display_name": "Python 3 (ipykernel)",
   "language": "python",
   "name": "python3"
  },
  "language_info": {
   "codemirror_mode": {
    "name": "ipython",
    "version": 3
   },
   "file_extension": ".py",
   "mimetype": "text/x-python",
   "name": "python",
   "nbconvert_exporter": "python",
   "pygments_lexer": "ipython3",
   "version": "3.11.7"
  }
 },
 "nbformat": 4,
 "nbformat_minor": 5
}
